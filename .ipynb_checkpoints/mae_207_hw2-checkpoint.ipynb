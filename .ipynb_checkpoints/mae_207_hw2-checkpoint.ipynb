{
 "cells": [
  {
   "cell_type": "markdown",
   "metadata": {},
   "source": [
    "# Assignment 2: Inverse kinematics of our leg\n",
    "\n",
    "Use this noteboook to document interacting with the robot class. The primary goal for this assignment is a video recording and plot rendering of your robot leg commanded to move along an *interesting* path (see the bat sign I chose in the readme page). \n",
    "\n",
    "__Deliverables__\n",
    "1. Your leg.py file in the robot python module we are creating. The template provided has blank functions which need to be completed.\n",
    "2. Two videos, a video of your robot tracing out your commanded trajectory (uploaded to youtube), and a gif of robot commanded trajectory (like on the readme page).\n",
    "3. This notebook which you will use to send the move commands for the trajectory.\n",
    "\n",
    "\n",
    "Team #: 2\n",
    "\n",
    "Names: Emily Lathrop, Wei Li"
   ]
  },
  {
   "cell_type": "markdown",
   "metadata": {},
   "source": [
    "# Getting started"
   ]
  },
  {
   "cell_type": "code",
   "execution_count": 1,
   "metadata": {},
   "outputs": [],
   "source": [
    "# Import the robot class we are developing\n",
    "import robot\n",
    "\n",
    "# Make a new leg variable which is a robot.Leg class\n",
    "leg = robot.Leg()"
   ]
  },
  {
   "cell_type": "code",
   "execution_count": 2,
   "metadata": {},
   "outputs": [
    {
     "name": "stdout",
     "output_type": "stream",
     "text": [
      "joint0: 2.000000 \t joint1: 1.400000\n"
     ]
    }
   ],
   "source": [
    "leg.get_joint_pos()\n",
    "print('joint0: %f \\t joint1: %f' % (leg.joint_0_pos, leg.joint_1_pos))"
   ]
  },
  {
   "cell_type": "markdown",
   "metadata": {},
   "source": [
    "# Your code below!"
   ]
  },
  {
   "cell_type": "code",
   "execution_count": 3,
   "metadata": {},
   "outputs": [],
   "source": [
    "# for the simulation\n",
    "# input points on the trajectory and return the angles\n",
    "tt = 14\n",
    "xx = [-1.25305623471883, -2.36552567237164, -2.80562347188264, -1.85207823960880, -0.201711491442543,\n",
    "      0.715158924205378, 2.13325183374083, 2.85452322738386, 3.28239608801956, 3.25794621026895,\n",
    "      2.56112469437653, 1.82762836185819, 0.409535452322737, -1.25305623471883]\n",
    "\n",
    "yy = [17.9278728606357, 16.5097799511002, 14.9572127139364, 13.4902200488998, 13.1112469437653,\n",
    "      13.0867970660147, 13.3190709046455, 14.4070904645477, 15.4584352078240, 16.6564792176039,\n",
    "      17.7567237163814, 17.9034229828851, 18.2212713936430, 17.9278728606357]\n",
    "\n",
    "(sim_theta0, sim_theta1, sim_alpha0, sim_alpha1) = leg.move_trajectory(tt, xx, yy)"
   ]
  },
  {
   "cell_type": "code",
   "execution_count": 14,
   "metadata": {},
   "outputs": [],
   "source": [
    "# Define a draw function\n",
    "import matplotlib.pyplot as plt\n",
    "from sympy import sin, cos\n",
    "import numpy as np\n",
    "\n",
    "\n",
    "def sim_draw_leg(l0, l1, l2, theta1, theta2, alpha1, alpha2, ax=False):\n",
    "    \"\"\"\n",
    "    This function takes in the four angles of the leg and draws\n",
    "    the configuration\n",
    "    \"\"\"\n",
    "\n",
    "    link1, link2, width = l1, l2, l0\n",
    "    cor_range = l1 + l2\n",
    "    \n",
    "    if ax == False:\n",
    "        ax = plt.gca()\n",
    "        ax.cla()\n",
    "\n",
    "    ax.plot(-width / 2, 0, 'ok')\n",
    "    ax.plot(width / 2, 0, 'ok')\n",
    "\n",
    "    ax.plot([-width / 2, 0], [0, 0], 'k')\n",
    "    ax.plot([width / 2, 0], [0, 0], 'k')\n",
    "\n",
    "    ax.plot(-width / 2 + np.array([0, link1 * cos(theta1)]), [0, link1 * sin(theta1)], 'k')\n",
    "    ax.plot(width / 2 + np.array([0, link1 * cos(theta2)]), [0, link1 * sin(theta2)], 'k')\n",
    "\n",
    "    ax.plot(-width / 2 + link1 * cos(theta1) + np.array([0, link2 * cos(alpha1)]), \\\n",
    "            link1 * sin(theta1) + np.array([0, link2 * sin(alpha1)]), 'k');\n",
    "    ax.plot(width / 2 + link1 * cos(theta2) + np.array([0, link2 * cos(alpha2)]), \\\n",
    "            np.array(link1 * sin(theta2) + np.array([0, link2 * sin(alpha2)])), 'k');\n",
    "            \n",
    "    curr_x = float(width / 2 + link1 * cos(theta2) + link2 * cos(alpha2))\n",
    "    curr_y = float(np.array(link1 * sin(theta2) + link2 * sin(alpha2)))\n",
    "\n",
    "    ax.plot(curr_x, curr_y, 'ro');\n",
    "\n",
    "    ax.axis([-cor_range, cor_range, -l1, cor_range])\n",
    "    ax.invert_yaxis()\n",
    "\n",
    "\n",
    "# Draw the legs and trajectory\n",
    "%matplotlib qt5\n",
    "\n",
    "for i in range(tt):\n",
    "    sim_draw_leg(7.7, 7, 14, sim_theta0[i], sim_theta1[i], sim_alpha0[i], sim_alpha1[i])\n",
    "    plt.plot(xx[0:i+1], yy[0:i+1])\n",
    "    plt.pause(.35)"
   ]
  },
  {
   "cell_type": "markdown",
   "metadata": {},
   "source": [
    "# Trajectory gif\n",
    "![title](Sim_trajectory.gif)"
   ]
  },
  {
   "cell_type": "code",
   "execution_count": 9,
   "metadata": {},
   "outputs": [
    {
     "name": "stdout",
     "output_type": "stream",
     "text": [
      "1.5713809048820633\n",
      "1.566775295302795\n"
     ]
    }
   ],
   "source": [
    "# Verify legs are at home position (pi/2, pi/2)\n",
    "(x,y) = leg.get_joint_pos()\n",
    "print(float(x))\n",
    "print(float(y))"
   ]
  },
  {
   "cell_type": "code",
   "execution_count": 10,
   "metadata": {},
   "outputs": [],
   "source": [
    "# thetas acquired from the simulation\n",
    "theta0 = sim_theta0\n",
    "theta1 = sim_theta1\n",
    "\n",
    "# set home position\n",
    "leg.set_home()\n"
   ]
  },
  {
   "cell_type": "code",
   "execution_count": 12,
   "metadata": {},
   "outputs": [],
   "source": [
    "#trace out trajectory on the actual arm\n",
    "import time\n",
    "for i in range(14):\n",
    "    leg.set_joint_pos(theta0[i], theta1[i])\n",
    "    time.sleep(.25)\n"
   ]
  },
  {
   "cell_type": "code",
   "execution_count": 2,
   "metadata": {},
   "outputs": [
    {
     "data": {
      "image/jpeg": "[encoded data removed]",
      "text/html": [
       "\n",
       "        <iframe\n",
       "            width=\"400\"\n",
       "            height=\"300\"\n",
       "            src=\"https://www.youtube.com/embed/_z-Ip1bBhz0\"\n",
       "            frameborder=\"0\"\n",
       "            allowfullscreen\n",
       "        ></iframe>\n",
       "        "
      ],
      "text/plain": [
       "<IPython.lib.display.YouTubeVideo at 0x265e76deb38>"
      ]
     },
     "execution_count": 2,
     "metadata": {},
     "output_type": "execute_result"
    }
   ],
   "source": [
    "# YouTube Videos\n",
    "from IPython.lib.display import YouTubeVideo\n",
    "\n",
    "YouTubeVideo('_z-Ip1bBhz0')"
   ]
  }
 ],
 "metadata": {
  "kernelspec": {
   "display_name": "Python 3",
   "language": "python",
   "name": "python3"
  },
  "language_info": {
   "codemirror_mode": {
    "name": "ipython",
    "version": 3
   },
   "file_extension": ".py",
   "mimetype": "text/x-python",
   "name": "python",
   "nbconvert_exporter": "python",
   "pygments_lexer": "ipython3",
   "version": "3.6.5"
  }
 },
 "nbformat": 4,
 "nbformat_minor": 2
}

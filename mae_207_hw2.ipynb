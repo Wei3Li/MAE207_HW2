{
 "cells": [
  {
   "cell_type": "markdown",
   "metadata": {},
   "source": [
    "# Assignment 2: Inverse kinematics of our leg\n",
    "\n",
    "Use this noteboook to document interacting with the robot class. The primary goal for this assignment is a video recording and plot rendering of your robot leg commanded to move along an *interesting* path (see the bat sign I chose in the readme page). \n",
    "\n",
    "__Deliverables__\n",
    "1. Your leg.py file in the robot python module we are creating. The template provided has blank functions which need to be completed.\n",
    "2. Two videos, a video of your robot tracing out your commanded trajectory (uploaded to youtube), and a gif of robot commanded trajectory (like on the readme page).\n",
    "3. This notebook which you will use to send the move commands for the trajectory.\n",
    "\n",
    "\n",
    "Team #: 2\n",
    "\n",
    "Names: Emily Lathrop, Wei Li"
   ]
  },
  {
   "cell_type": "markdown",
   "metadata": {},
   "source": [
    "# Getting started"
   ]
  },
  {
   "cell_type": "code",
   "execution_count": 1,
   "metadata": {},
   "outputs": [
    {
     "name": "stdout",
     "output_type": "stream",
     "text": [
      "Connected!\n"
     ]
    }
   ],
   "source": [
    "# Import the robot class we are developing\n",
    "import robot\n",
    "\n",
    "# Make a new leg variable which is a robot.Leg class\n",
    "leg = robot.Leg()"
   ]
  },
  {
   "cell_type": "code",
   "execution_count": 2,
   "metadata": {},
   "outputs": [
    {
     "name": "stdout",
     "output_type": "stream",
     "text": [
      "joint0: 1.570980 \t joint1: 1.569456\n"
     ]
    }
   ],
   "source": [
    "leg.get_joint_pos()\n",
    "print('joint0: %f \\t joint1: %f' % (leg.joint_0_pos, leg.joint_1_pos))"
   ]
  },
  {
   "cell_type": "markdown",
   "metadata": {},
   "source": [
    "# Your code below!"
   ]
  },
  {
   "cell_type": "code",
   "execution_count": 3,
   "metadata": {},
   "outputs": [],
   "source": [
    "# for the simulation\n",
    "# input points on the trajectory and return the angles\n",
    "import pandas as pd\n",
    "\n",
    "df = pd.read_csv('trace_coords_1.csv')\n",
    "xx, yy = df['xx'], df['yy']\n",
    "tt = len(xx)\n"
   ]
  },
  {
   "cell_type": "code",
   "execution_count": 4,
   "metadata": {},
   "outputs": [],
   "source": [
    "# Computer theta's and alpha's and store them\n",
    "(sim_theta0, sim_theta1, sim_alpha0, sim_alpha1) = leg.move_trajectory(tt, xx, yy)\n"
   ]
  },
  {
   "cell_type": "code",
   "execution_count": 5,
   "metadata": {},
   "outputs": [],
   "source": [
    "# Define a draw function\n",
    "import matplotlib.pyplot as plt\n",
    "from sympy import sin, cos\n",
    "import numpy as np\n",
    "\n",
    "\n",
    "def sim_draw_leg(l0, l1, l2, theta1, theta2, alpha1, alpha2, ax=False):\n",
    "    \"\"\"\n",
    "    This function takes in the four angles of the leg and draws\n",
    "    the configuration\n",
    "    \"\"\"\n",
    "\n",
    "    link1, link2, width = l1, l2, l0\n",
    "    cor_range = l1 + l2\n",
    "    \n",
    "    if ax == False:\n",
    "        ax = plt.gca()\n",
    "        ax.cla()\n",
    "\n",
    "    ax.plot(-width / 2, 0, 'ok')\n",
    "    ax.plot(width / 2, 0, 'ok')\n",
    "\n",
    "    ax.plot([-width / 2, 0], [0, 0], 'k')\n",
    "    ax.plot([width / 2, 0], [0, 0], 'k')\n",
    "\n",
    "    ax.plot(-width / 2 + np.array([0, link1 * cos(theta1)]), [0, link1 * sin(theta1)], 'k')\n",
    "    ax.plot(width / 2 + np.array([0, link1 * cos(theta2)]), [0, link1 * sin(theta2)], 'k')\n",
    "\n",
    "    ax.plot(-width / 2 + link1 * cos(theta1) + np.array([0, link2 * cos(alpha1)]), \\\n",
    "            link1 * sin(theta1) + np.array([0, link2 * sin(alpha1)]), 'k');\n",
    "    ax.plot(width / 2 + link1 * cos(theta2) + np.array([0, link2 * cos(alpha2)]), \\\n",
    "            np.array(link1 * sin(theta2) + np.array([0, link2 * sin(alpha2)])), 'k');\n",
    "            \n",
    "    curr_x = float(width / 2 + link1 * cos(theta2) + link2 * cos(alpha2))\n",
    "    curr_y = float(np.array(link1 * sin(theta2) + link2 * sin(alpha2)))\n",
    "\n",
    "    ax.plot(curr_x, curr_y, 'ro');\n",
    "\n",
    "    ax.axis([-cor_range, cor_range, -l1, cor_range])\n",
    "    ax.invert_yaxis()\n",
    "    "
   ]
  },
  {
   "cell_type": "code",
   "execution_count": 6,
   "metadata": {},
   "outputs": [],
   "source": [
    "# Draw the legs and trajectory\n",
    "%matplotlib qt5\n",
    "\n",
    "for i in range(tt):\n",
    "    sim_draw_leg(7.7, 7, 14, sim_theta0[i], sim_theta1[i], sim_alpha0[i], sim_alpha1[i])\n",
    "    plt.plot(xx[0:i+1], yy[0:i+1])\n",
    "    plt.pause(.15)\n",
    "    "
   ]
  },
  {
   "cell_type": "markdown",
   "metadata": {},
   "source": [
    "# Trajectory gif\n",
    "![Simulation of Trajectory gif](Sim_trajectory.gif)"
   ]
  },
  {
   "cell_type": "code",
   "execution_count": 3,
   "metadata": {},
   "outputs": [
    {
     "name": "stdout",
     "output_type": "stream",
     "text": [
      "1.5709722942732198\n",
      "1.569493066108858\n"
     ]
    }
   ],
   "source": [
    "# Verify legs are at home position (pi/2, pi/2)\n",
    "(x,y) = leg.get_joint_pos()\n",
    "print(float(x))\n",
    "print(float(y))"
   ]
  },
  {
   "cell_type": "code",
   "execution_count": 4,
   "metadata": {},
   "outputs": [],
   "source": [
    "# thetas acquired from the simulation\n",
    "import numpy as np\n",
    "\n",
    "thetas = np.loadtxt('thetas')\n",
    "\n",
    "theta0 = thetas[0]\n",
    "theta1 = thetas[1]\n",
    "\n",
    "# set home position\n",
    "leg.set_home()\n"
   ]
  },
  {
   "cell_type": "code",
   "execution_count": 5,
   "metadata": {},
   "outputs": [],
   "source": [
    "#trace out trajectory on the actual arm\n",
    "import time\n",
    "for i in range(len(theta0)):\n",
    "    leg.set_joint_pos(theta0[i], theta1[i])\n",
    "    time.sleep(.2)\n"
   ]
  },
  {
   "cell_type": "code",
   "execution_count": 1,
   "metadata": {},
   "outputs": [
    {
     "data": {
      "image/jpeg": "[encoded data removed]",
      "text/html": [
       "\n",
       "        <iframe\n",
       "            width=\"400\"\n",
       "            height=\"300\"\n",
       "            src=\"https://www.youtube.com/embed/rA9KXRcmf6E\"\n",
       "            frameborder=\"0\"\n",
       "            allowfullscreen\n",
       "        ></iframe>\n",
       "        "
      ],
      "text/plain": [
       "<IPython.lib.display.YouTubeVideo at 0x1fb3493fc88>"
      ]
     },
     "execution_count": 1,
     "metadata": {},
     "output_type": "execute_result"
    }
   ],
   "source": [
    "# YouTube Videos\n",
    "from IPython.lib.display import YouTubeVideo\n",
    "\n",
    "YouTubeVideo('rA9KXRcmf6E')"
   ]
  }
 ],
 "metadata": {
  "kernelspec": {
   "display_name": "Python 3",
   "language": "python",
   "name": "python3"
  },
  "language_info": {
   "codemirror_mode": {
    "name": "ipython",
    "version": 3
   },
   "file_extension": ".py",
   "mimetype": "text/x-python",
   "name": "python",
   "nbconvert_exporter": "python",
   "pygments_lexer": "ipython3",
   "version": "3.6.5"
  }
 },
 "nbformat": 4,
 "nbformat_minor": 2
}
